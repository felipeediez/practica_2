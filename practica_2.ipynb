{
  "nbformat": 4,
  "nbformat_minor": 0,
  "metadata": {
    "colab": {
      "provenance": []
    },
    "kernelspec": {
      "name": "python3",
      "display_name": "Python 3"
    },
    "language_info": {
      "name": "python"
    }
  },
  "cells": [
    {
      "cell_type": "code",
      "execution_count": null,
      "metadata": {
        "id": "bEEzF8XVOKzl",
        "colab": {
          "base_uri": "https://localhost:8080/"
        },
        "outputId": "d57ca2f2-bf35-4826-a88c-f4ff471d5a5e"
      },
      "outputs": [
        {
          "output_type": "stream",
          "name": "stdout",
          "text": [
            "fatal: destination path 'practica_2' already exists and is not an empty directory.\n",
            "[Errno 2] No such file or directory: 'practica_2/notebooks # Ingresamos a la carpeta notebooks dentro de practica_2'\n",
            "/content\n"
          ]
        }
      ],
      "source": [
        "!git clone https://github.com/felipeediez/practica_2.git  # Se clona el repositorio de GitHub\n",
        "%cd practica_2/notebooks  # Ingresamos a la carpeta notebooks dentro de practica_2"
      ]
    },
    {
      "cell_type": "code",
      "source": [
        "import pandas as pd  # Importamos libreria pandas\n",
        "df = pd.read_csv (\"../data/NISPUF17.csv\")  # Se establece al archivo .csv como data frame"
      ],
      "metadata": {
        "id": "iNRODTQNUFAA"
      },
      "execution_count": null,
      "outputs": []
    },
    {
      "cell_type": "markdown",
      "source": [
        "Sets para identificar elementos del data frame indicado"
      ],
      "metadata": {
        "id": "9Ip-Stc2bHwo"
      }
    },
    {
      "cell_type": "code",
      "source": [
        "set (df['EDUC1'])  # Set para poder visualizar los diferentes elementos dentro de la columna 'EDUC1' del data frame\n",
        "set (df['CBF_01'])  # Set para poder visualizar los diferentes elementos dentro de la columna 'CBF_01' del data frame\n",
        "set (df ['SEX'])  # Set para poder visualizar los diferentes elementos dentro de la columna 'SEX' del data frame"
      ],
      "metadata": {
        "id": "eWDqi38EY_ZF"
      },
      "execution_count": null,
      "outputs": []
    },
    {
      "cell_type": "markdown",
      "source": [
        "Solución ejercicio 1"
      ],
      "metadata": {
        "id": "B0PV2tX6ZUT-"
      }
    },
    {
      "cell_type": "code",
      "source": [
        "def proportion_of_education (df):\n",
        "    total_filas_df = len (df)  # Esta variable establece el largo del data frame\n",
        "    datos = {}\n",
        "\n",
        "    # Se establecen 4 data frames que salen del data frame del archivo .csv, uno por cada nivel educativo\n",
        "    mother_education_level_1 = df [df['EDUC1'] == 1]\n",
        "    mother_education_level_2 = df [df['EDUC1'] == 2]\n",
        "    mother_education_level_3 = df [df['EDUC1'] == 3]\n",
        "    mother_education_level_4 = df [df['EDUC1'] == 4]\n",
        "\n",
        "    # Se divide la cantidad de elementos de cada data frame establecido anteriormente con el largo del data frame del archivo .csv\n",
        "    proportion_level_1 = len (mother_education_level_1) / total_filas_df\n",
        "    proportion_level_2 = len (mother_education_level_2) / total_filas_df\n",
        "    proportion_level_3 = len (mother_education_level_3) / total_filas_df\n",
        "    proportion_level_4 = len (mother_education_level_4) / total_filas_df\n",
        "\n",
        "    # Diccionario que almacene los datos en formato clave-valor\n",
        "    datos = {\n",
        "        \"Menor que secundaria\" : proportion_level_1,\n",
        "        \"Secundaria\" : proportion_level_2,\n",
        "        \"Mayor a secundaria pero no universitaria\" : proportion_level_3,\n",
        "        \"Universitaria\" : proportion_level_4\n",
        "        }\n",
        "    return datos"
      ],
      "metadata": {
        "id": "XTHJJpo5XHud"
      },
      "execution_count": null,
      "outputs": []
    },
    {
      "cell_type": "markdown",
      "source": [
        "Solución ejercicio 2"
      ],
      "metadata": {
        "id": "cJNJ9fjWZQ0z"
      }
    },
    {
      "cell_type": "code",
      "source": [
        "def average_influenza_doses (df):\n",
        "    child_fed_milk_yes = df[df['CBF_01'] == 1]  # Data frame de niños que consumieron leche materna\n",
        "    child_fed_milk_no = df[df['CBF_01'] == 2]  # Data frame de niños que no consumieron leche materna\n",
        "\n",
        "    # Promedio de vacunas para cada data frame\n",
        "    avg_vaccinated_yes = child_fed_milk_yes ['P_NUMFLU'].mean()\n",
        "    avg_vaccinated_no = child_fed_milk_no ['P_NUMFLU'].mean()\n",
        "\n",
        "    return avg_vaccinated_yes , avg_vaccinated_no  # Se retorna una tupla"
      ],
      "metadata": {
        "id": "aQEO73jcZFqF"
      },
      "execution_count": null,
      "outputs": []
    },
    {
      "cell_type": "markdown",
      "source": [
        "Solución ejercicio 3"
      ],
      "metadata": {
        "id": "DEXqaHDfZNgr"
      }
    },
    {
      "cell_type": "code",
      "source": [
        "def chickenpox_by_sex (df):\n",
        "    ratios = {}  # Diccionario vacio\n",
        "\n",
        "    vaccinated = df[df['P_NUMVRC'] >= 1]  # Data frame de personas con al menos una dosis de vacuna\n",
        "\n",
        "    had_pox = vaccinated[vaccinated['HAD_CPOX'] == 1]  # Vacunados que contrajeron varicela\n",
        "    no_pox = vaccinated[vaccinated['HAD_CPOX'] == 2]  # Vacunados que no contrajeron varicela\n",
        "\n",
        "    # Se calcula el ratio para personas vacunadas con varicela vs. personas vacunadas sin varicela, separando por sexo\n",
        "    ratio_vaccine_desease_m = len(had_pox[had_pox['SEX'] == 1]) / len(no_pox[no_pox['SEX'] == 1])\n",
        "    ratio_vaccine_desease_f = len(had_pox[had_pox['SEX'] == 2]) / len(no_pox[no_pox['SEX'] == 2])\n",
        "\n",
        "    # Se guardan los datos en el diccionario vacio\n",
        "    ratios = {\n",
        "        \"male\": ratio_vaccine_desease_m,\n",
        "        \"female\": ratio_vaccine_desease_f\n",
        "    }\n",
        "\n",
        "    return ratios"
      ],
      "metadata": {
        "id": "pthiR1OrZF_B"
      },
      "execution_count": null,
      "outputs": []
    },
    {
      "cell_type": "markdown",
      "source": [
        "Ejecución ejercicio 1"
      ],
      "metadata": {
        "id": "SQsag3tWlIIF"
      }
    },
    {
      "cell_type": "code",
      "source": [
        "proportion_education = proportion_of_education (df)\n",
        "proportion_education"
      ],
      "metadata": {
        "colab": {
          "base_uri": "https://localhost:8080/"
        },
        "id": "eXiWGinOZ19w",
        "outputId": "68ca354a-810f-4ab0-bb1b-27a032b0a9f6"
      },
      "execution_count": null,
      "outputs": [
        {
          "output_type": "execute_result",
          "data": {
            "text/plain": [
              "{'Menor que secundaria': 0.10202002459160373,\n",
              " 'Secundaria': 0.172352011241876,\n",
              " 'Mayor a secundaria pero no universitaria': 0.24588090637625154,\n",
              " 'Universitaria': 0.47974705779026877}"
            ]
          },
          "metadata": {},
          "execution_count": 5
        }
      ]
    },
    {
      "cell_type": "markdown",
      "source": [
        "Ejecución ejercicio 2"
      ],
      "metadata": {
        "id": "52PdrIR8lP9I"
      }
    },
    {
      "cell_type": "code",
      "source": [
        "avg_influenza = average_influenza_doses (df)\n",
        "print (f\"Promedio de niños que tomaron leche materna y se vacunaron:\", avg_influenza[0], \"\\nPromedio de niños que no tomaron leche materna y se vacunaron:\", avg_influenza[1]) # Ejercicio 2"
      ],
      "metadata": {
        "colab": {
          "base_uri": "https://localhost:8080/"
        },
        "id": "e2pEbJQ8lM7s",
        "outputId": "23664954-1212-41f9-a2bc-87967ae99f41"
      },
      "execution_count": null,
      "outputs": [
        {
          "output_type": "stream",
          "name": "stdout",
          "text": [
            "Promedio de niños que tomaron leche materna y se vacunaron: 1.8799187420058687 \n",
            "Promedio de niños que no tomaron leche materna y se vacunaron: 1.5963945918878317\n"
          ]
        }
      ]
    },
    {
      "cell_type": "markdown",
      "source": [
        "Ejecución ejercicio 3"
      ],
      "metadata": {
        "id": "PmDH8FcBuMz7"
      }
    },
    {
      "cell_type": "code",
      "source": [
        "ratios_cpox = chickenpox_by_sex (df)\n",
        "ratios_cpox"
      ],
      "metadata": {
        "colab": {
          "base_uri": "https://localhost:8080/"
        },
        "id": "taJ_c4wnuMio",
        "outputId": "090260f9-1c9b-49da-da0a-c2ec3232adda"
      },
      "execution_count": null,
      "outputs": [
        {
          "output_type": "execute_result",
          "data": {
            "text/plain": [
              "{'male': 0.009675583380762664, 'female': 0.0077918259335489565}"
            ]
          },
          "metadata": {},
          "execution_count": 9
        }
      ]
    }
  ]
}